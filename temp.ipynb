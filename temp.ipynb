{
 "cells": [
  {
   "cell_type": "code",
   "execution_count": 1,
   "metadata": {},
   "outputs": [
    {
     "name": "stderr",
     "output_type": "stream",
     "text": [
      "/home/filip/.local/lib/python3.10/site-packages/tqdm/auto.py:21: TqdmWarning: IProgress not found. Please update jupyter and ipywidgets. See https://ipywidgets.readthedocs.io/en/stable/user_install.html\n",
      "  from .autonotebook import tqdm as notebook_tqdm\n",
      "2025-06-02 21:19:02.595686: E external/local_xla/xla/stream_executor/cuda/cuda_fft.cc:467] Unable to register cuFFT factory: Attempting to register factory for plugin cuFFT when one has already been registered\n",
      "WARNING: All log messages before absl::InitializeLog() is called are written to STDERR\n",
      "E0000 00:00:1748891942.744439    5823 cuda_dnn.cc:8579] Unable to register cuDNN factory: Attempting to register factory for plugin cuDNN when one has already been registered\n",
      "E0000 00:00:1748891942.784863    5823 cuda_blas.cc:1407] Unable to register cuBLAS factory: Attempting to register factory for plugin cuBLAS when one has already been registered\n",
      "W0000 00:00:1748891943.083262    5823 computation_placer.cc:177] computation placer already registered. Please check linkage and avoid linking the same target more than once.\n",
      "W0000 00:00:1748891943.083296    5823 computation_placer.cc:177] computation placer already registered. Please check linkage and avoid linking the same target more than once.\n",
      "W0000 00:00:1748891943.083298    5823 computation_placer.cc:177] computation placer already registered. Please check linkage and avoid linking the same target more than once.\n",
      "W0000 00:00:1748891943.083301    5823 computation_placer.cc:177] computation placer already registered. Please check linkage and avoid linking the same target more than once.\n",
      "2025-06-02 21:19:03.114063: I tensorflow/core/platform/cpu_feature_guard.cc:210] This TensorFlow binary is optimized to use available CPU instructions in performance-critical operations.\n",
      "To enable the following instructions: AVX2 FMA, in other operations, rebuild TensorFlow with the appropriate compiler flags.\n"
     ]
    }
   ],
   "source": [
    "import torch\n",
    "import pandas as pd\n",
    "from utils.mbert import MBert\n",
    "from utils.metrics import get_BLEU"
   ]
  },
  {
   "cell_type": "code",
   "execution_count": 2,
   "metadata": {},
   "outputs": [
    {
     "name": "stdout",
     "output_type": "stream",
     "text": [
      "cuda\n"
     ]
    }
   ],
   "source": [
    "device = torch.device(\"cuda\" if torch.cuda.is_available() else \"cpu\")\n",
    "print(device)\n",
    "\n",
    "target_lan = \"pl_PL\"\n",
    "csv_path = \"data/en_pl.csv\"\n",
    "\n",
    "# target_lan = \"de_DE\"\n",
    "# csv_path = \"data/en_de.csv\""
   ]
  },
  {
   "cell_type": "code",
   "execution_count": 3,
   "metadata": {},
   "outputs": [
    {
     "data": {
      "application/vnd.microsoft.datawrangler.viewer.v0+json": {
       "columns": [
        {
         "name": "index",
         "rawType": "int64",
         "type": "integer"
        },
        {
         "name": "english",
         "rawType": "object",
         "type": "string"
        },
        {
         "name": "polish",
         "rawType": "object",
         "type": "string"
        }
       ],
       "ref": "e0d9cea9-057d-44c2-ac11-c1b01576910b",
       "rows": [
        [
         "0",
         "Hello, how are you doing today?",
         "Cześć, jak się dzisiaj masz?"
        ],
        [
         "1",
         "The meeting will start in ten minutes.",
         "Spotkanie zacznie się za dziesięć minut."
        ],
        [
         "2",
         "Can you help me translate this sentence?",
         "Czy możesz pomóc mi przetłumaczyć to zdanie?"
        ]
       ],
       "shape": {
        "columns": 2,
        "rows": 3
       }
      },
      "text/html": [
       "<div>\n",
       "<style scoped>\n",
       "    .dataframe tbody tr th:only-of-type {\n",
       "        vertical-align: middle;\n",
       "    }\n",
       "\n",
       "    .dataframe tbody tr th {\n",
       "        vertical-align: top;\n",
       "    }\n",
       "\n",
       "    .dataframe thead th {\n",
       "        text-align: right;\n",
       "    }\n",
       "</style>\n",
       "<table border=\"1\" class=\"dataframe\">\n",
       "  <thead>\n",
       "    <tr style=\"text-align: right;\">\n",
       "      <th></th>\n",
       "      <th>english</th>\n",
       "      <th>polish</th>\n",
       "    </tr>\n",
       "  </thead>\n",
       "  <tbody>\n",
       "    <tr>\n",
       "      <th>0</th>\n",
       "      <td>Hello, how are you doing today?</td>\n",
       "      <td>Cześć, jak się dzisiaj masz?</td>\n",
       "    </tr>\n",
       "    <tr>\n",
       "      <th>1</th>\n",
       "      <td>The meeting will start in ten minutes.</td>\n",
       "      <td>Spotkanie zacznie się za dziesięć minut.</td>\n",
       "    </tr>\n",
       "    <tr>\n",
       "      <th>2</th>\n",
       "      <td>Can you help me translate this sentence?</td>\n",
       "      <td>Czy możesz pomóc mi przetłumaczyć to zdanie?</td>\n",
       "    </tr>\n",
       "  </tbody>\n",
       "</table>\n",
       "</div>"
      ],
      "text/plain": [
       "                                    english  \\\n",
       "0           Hello, how are you doing today?   \n",
       "1    The meeting will start in ten minutes.   \n",
       "2  Can you help me translate this sentence?   \n",
       "\n",
       "                                         polish  \n",
       "0                  Cześć, jak się dzisiaj masz?  \n",
       "1      Spotkanie zacznie się za dziesięć minut.  \n",
       "2  Czy możesz pomóc mi przetłumaczyć to zdanie?  "
      ]
     },
     "execution_count": 3,
     "metadata": {},
     "output_type": "execute_result"
    }
   ],
   "source": [
    "src_sentences = [\n",
    "    \"Hello, how are you doing today?\",\n",
    "    \"The meeting will start in ten minutes.\",\n",
    "    \"Can you help me translate this sentence?\"\n",
    "]\n",
    "ref_sentences = [\n",
    "    \"Cześć, jak się dzisiaj masz?\",\n",
    "    \"Spotkanie zacznie się za dziesięć minut.\",\n",
    "    \"Czy możesz pomóc mi przetłumaczyć to zdanie?\"\n",
    "]\n",
    "\n",
    "df_temp = pd.DataFrame({\n",
    "    \"english\": src_sentences,\n",
    "    \"polish\": ref_sentences\n",
    "})\n",
    "df_temp"
   ]
  },
  {
   "cell_type": "code",
   "execution_count": 4,
   "metadata": {},
   "outputs": [
    {
     "name": "stdout",
     "output_type": "stream",
     "text": [
      "<class 'pandas.core.frame.DataFrame'>\n",
      "                                english  \\\n",
      "0      Previously on \"The Blacklist\"...   \n",
      "1        - You want to call your daddy?   \n",
      "2  - Yeah, I want to tell him I'm okay.   \n",
      "3                                 Okay.   \n",
      "4  Lizzy... Be careful of your husband.   \n",
      "\n",
      "                                   polish  \n",
      "0             /W poprzednich odcinkach: /  \n",
      "1             - Chcesz zadzwonić do taty?  \n",
      "2  - Tak, powiem, że wszystko w porządku.  \n",
      "3                                 Dobrze.  \n",
      "4                  Lizzy, uważaj na męża.  \n"
     ]
    }
   ],
   "source": [
    "chunk_size = 100_000\n",
    "\n",
    "file_reader = pd.read_csv(csv_path, chunksize=chunk_size)\n",
    "first_chunk = next(file_reader) \n",
    "print(type(first_chunk))\n",
    "print(first_chunk.head())"
   ]
  },
  {
   "cell_type": "code",
   "execution_count": 4,
   "metadata": {},
   "outputs": [],
   "source": [
    "mbert = MBert(device, target_lan)"
   ]
  },
  {
   "cell_type": "code",
   "execution_count": 5,
   "metadata": {},
   "outputs": [
    {
     "name": "stderr",
     "output_type": "stream",
     "text": [
      "Tłumaczenie: 100%|██████████| 3/3 [02:00<00:00, 40.00s/it] "
     ]
    },
    {
     "name": "stdout",
     "output_type": "stream",
     "text": [
      "\n",
      "BLEU score: 41.44\n"
     ]
    },
    {
     "name": "stderr",
     "output_type": "stream",
     "text": [
      "\n"
     ]
    }
   ],
   "source": [
    "translations = mbert.translate(df_temp['english'])\n",
    "ref = df_temp['polish'].to_list()\n",
    "bleu = get_BLEU(translations, [ref])"
   ]
  },
  {
   "cell_type": "code",
   "execution_count": null,
   "metadata": {},
   "outputs": [
    {
     "name": "stderr",
     "output_type": "stream",
     "text": [
      "Tłumaczenie:   2%|▏         | 2429/100000 [16:56<25:11:36,  1.08it/s]"
     ]
    }
   ],
   "source": [
    "translated_lists = []\n",
    "for df in file_reader:\n",
    "    translations = mbert.translate(df['english'])\n",
    "    translated_lists.append(translations)\n",
    "    "
   ]
  },
  {
   "cell_type": "code",
   "execution_count": null,
   "metadata": {},
   "outputs": [],
   "source": [
    "bleus = []\n",
    "for refs, trans in zip(file_reader, translated_lists):\n",
    "    refs = refs['polish'].to_list()\n",
    "    bleu = get_BLEU(trans, [refs])\n",
    "    bleus.append(bleu)"
   ]
  },
  {
   "cell_type": "code",
   "execution_count": null,
   "metadata": {},
   "outputs": [],
   "source": [
    "import pickle\n",
    "\n",
    "with open(\"data/translations_mbart.pkl\", \"wb\") as f:\n",
    "    pickle.dump(translated_lists, f)\n",
    "\n",
    "with open(\"data/bleus.pkl\", \"wb\") as f:\n",
    "    pickle.dump(bleus, f)"
   ]
  }
 ],
 "metadata": {
  "kernelspec": {
   "display_name": "Python 3",
   "language": "python",
   "name": "python3"
  },
  "language_info": {
   "codemirror_mode": {
    "name": "ipython",
    "version": 3
   },
   "file_extension": ".py",
   "mimetype": "text/x-python",
   "name": "python",
   "nbconvert_exporter": "python",
   "pygments_lexer": "ipython3",
   "version": "3.10.12"
  }
 },
 "nbformat": 4,
 "nbformat_minor": 2
}
